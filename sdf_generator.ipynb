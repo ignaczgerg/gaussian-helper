{
 "cells": [
  {
   "cell_type": "code",
   "execution_count": 1,
   "metadata": {},
   "outputs": [],
   "source": [
    "import pandas as pd\n",
    "import numpy as np\n",
    "from os import open\n",
    "import rdkit\n",
    "from rdkit import Chem\n",
    "from rdkit.Chem import SDWriter\n",
    "from rdkit.six import StringIO"
   ]
  },
  {
   "cell_type": "code",
   "execution_count": 28,
   "metadata": {},
   "outputs": [
    {
     "name": "stderr",
     "output_type": "stream",
     "text": [
      "C:\\Users\\ignaczg\\AppData\\Local\\Temp/ipykernel_20556/2565094376.py:4: SettingWithCopyWarning: \n",
      "A value is trying to be set on a copy of a slice from a DataFrame\n",
      "\n",
      "See the caveats in the documentation: https://pandas.pydata.org/pandas-docs/stable/user_guide/indexing.html#returning-a-view-versus-a-copy\n",
      "  rej['membrane_solute'][idx] = f\"O=C(C1=CC=C(C(N(C2=CC=CC=C2)C3=O)=O)C3=C1)C4=CC=CC=C4.{solute_smiles}\"\n"
     ]
    }
   ],
   "source": [
    "rej = pd.read_csv('./data/FINAL_LIST_997.csv')\n",
    "rej['membrane_solute'] = 'asd'\n",
    "for idx, solute_smiles in enumerate(rej['solute_smiles']):\n",
    "    rej['membrane_solute'][idx] = f\"O=C(C1=CC=C(C(N(C2=CC=CC=C2)C3=O)=O)C3=C1)C4=CC=CC=C4.{solute_smiles}\""
   ]
  },
  {
   "cell_type": "code",
   "execution_count": 54,
   "metadata": {},
   "outputs": [],
   "source": [
    "smiles_lst = []\n",
    "for idx, smile in enumerate(rej['membrane_solute']):\n",
    "    try:\n",
    "        mol = Chem.MolFromSmiles(smile)\n",
    "        mol.SetProp(\"id\", str(rej[\"id\"][idx]))\n",
    "        mol.SetProp(\"name\", str(rej[\"name\"][idx]))\n",
    "        mol.SetProp(\"container\", str(rej[\"container\"][idx]))\n",
    "        mol.SetProp(\"cas\", str(rej[\"cas\"][idx]))\n",
    "        mol.SetProp(\"mw\", str(rej[\"mw\"][idx]))\n",
    "        mol.SetProp(\"solute_smiles\", str(rej[\"solute_smiles\"][idx]))\n",
    "        mol.SetProp(\"solvent_smiles\", str(rej[\"solvent_smiles\"][idx]))\n",
    "        mol.SetProp(\"solvent_name\", str(rej[\"solvent_name\"][idx]))\n",
    "        mol.SetProp(\"dm300\", str(rej[\"dm300\"][idx]))\n",
    "        mol.SetProp(\"full_smiles\", str(rej[\"full_smiles\"][idx]))\n",
    "        mol.SetProp(\"membrane_solute\", str(rej[\"membrane_solute\"][idx]))\n",
    "        smiles_lst.append(mol)\n",
    "    except:\n",
    "        smiles_lst.append(np.nan)"
   ]
  },
  {
   "cell_type": "code",
   "execution_count": 56,
   "metadata": {},
   "outputs": [],
   "source": [
    "with Chem.SDWriter('membrane_solute.sdf') as w:\n",
    "    for m in smiles_lst:\n",
    "        if not isinstance(m, type(np.nan)):\n",
    "            w.write(m)\n",
    "        else:\n",
    "            next\n"
   ]
  }
 ],
 "metadata": {
  "kernelspec": {
   "display_name": "Python 3.8.10 ('chemprop')",
   "language": "python",
   "name": "python3"
  },
  "language_info": {
   "codemirror_mode": {
    "name": "ipython",
    "version": 3
   },
   "file_extension": ".py",
   "mimetype": "text/x-python",
   "name": "python",
   "nbconvert_exporter": "python",
   "pygments_lexer": "ipython3",
   "version": "3.8.10"
  },
  "orig_nbformat": 4,
  "vscode": {
   "interpreter": {
    "hash": "ae0a1f03a5765655b0f3c372de312bf5eba465e1865ba9948eeb558b9979f4a7"
   }
  }
 },
 "nbformat": 4,
 "nbformat_minor": 2
}

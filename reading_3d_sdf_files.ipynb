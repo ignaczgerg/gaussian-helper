{
 "cells": [
  {
   "cell_type": "code",
   "execution_count": 1,
   "metadata": {},
   "outputs": [],
   "source": [
    "import rdkit\n",
    "from rdkit.Chem import SDMolSupplier # to read the SD files"
   ]
  },
  {
   "cell_type": "code",
   "execution_count": 2,
   "metadata": {},
   "outputs": [],
   "source": [
    "# this line reads the SD file, which contains both the 3D coordinates and the properties.\n",
    "mol = SDMolSupplier('./foo.sdf')"
   ]
  },
  {
   "cell_type": "code",
   "execution_count": 3,
   "metadata": {},
   "outputs": [
    {
     "data": {
      "text/plain": [
       "{}"
      ]
     },
     "execution_count": 3,
     "metadata": {},
     "output_type": "execute_result"
    }
   ],
   "source": [
    "# you can acces all the properties as a dictionary (the variable mol only contains 1 molecules)\n",
    "mol[0].GetPropsAsDict()"
   ]
  },
  {
   "cell_type": "code",
   "execution_count": 24,
   "metadata": {},
   "outputs": [
    {
     "name": "stdout",
     "output_type": "stream",
     "text": [
      "[[ 2.39650e+00 -3.82000e+00 -8.70300e-01]\n",
      " [ 2.17490e+00 -2.45030e+00 -4.73600e-01]\n",
      " [ 9.32200e-01 -1.91420e+00 -2.03200e-01]\n",
      " [-2.56700e-01 -2.64200e+00 -2.82100e-01]\n",
      " [-1.49450e+00 -2.04830e+00  5.20000e-03]\n",
      " [-1.58420e+00 -7.05000e-01  3.84700e-01]\n",
      " [-2.84970e+00 -1.46700e-01  6.29400e-01]\n",
      " [-3.32890e+00  1.17050e+00  5.41100e-01]\n",
      " [-2.75280e+00  2.13870e+00 -2.83900e-01]\n",
      " [-3.24270e+00  3.45170e+00 -3.12600e-01]\n",
      " [-4.32360e+00  3.83690e+00  4.83100e-01]\n",
      " [-4.82550e+00  5.14850e+00  5.14200e-01]\n",
      " [-4.23130e+00  6.38920e+00  2.29900e-01]\n",
      " [-2.85590e+00  6.61490e+00  3.15800e-01]\n",
      " [-2.30410e+00  7.86200e+00 -8.50000e-03]\n",
      " [-3.10900e+00  8.91690e+00 -4.43700e-01]\n",
      " [-2.60500e+00  1.01918e+01 -7.48900e-01]\n",
      " [-1.45530e+00  1.08755e+01 -3.20400e-01]\n",
      " [-8.11600e-01  1.06061e+01  8.88100e-01]\n",
      " [ 3.54400e-01  1.12926e+01  1.25920e+00]\n",
      " [ 9.20600e-01  1.22647e+01  4.31800e-01]\n",
      " [ 2.06600e+00  1.29658e+01  7.50900e-01]\n",
      " [ 2.81540e+00  1.27762e+01  1.96970e+00]\n",
      " [ 2.75700e-01  1.25286e+01 -7.80900e-01]\n",
      " [-8.90400e-01  1.18463e+01 -1.15310e+00]\n",
      " [-4.48720e+00  8.69120e+00 -5.32500e-01]\n",
      " [-5.03920e+00  7.44640e+00 -2.04000e-01]\n",
      " [-4.89670e+00  2.86960e+00  1.31650e+00]\n",
      " [-4.40720e+00  1.55740e+00  1.34500e+00]\n",
      " [-3.98800e-01  2.65000e-02  4.58700e-01]\n",
      " [ 8.37200e-01 -5.70400e-01  1.73500e-01]]\n"
     ]
    }
   ],
   "source": [
    "# you can get the cartesian coordinates of the atom stored in the mol variable\n",
    "print(mol[0].GetConformer().GetPositions())"
   ]
  },
  {
   "cell_type": "code",
   "execution_count": null,
   "metadata": {},
   "outputs": [],
   "source": []
  }
 ],
 "metadata": {
  "kernelspec": {
   "display_name": "Python 3.8.10 ('chemprop')",
   "language": "python",
   "name": "python3"
  },
  "language_info": {
   "codemirror_mode": {
    "name": "ipython",
    "version": 3
   },
   "file_extension": ".py",
   "mimetype": "text/x-python",
   "name": "python",
   "nbconvert_exporter": "python",
   "pygments_lexer": "ipython3",
   "version": "3.8.10"
  },
  "orig_nbformat": 4,
  "vscode": {
   "interpreter": {
    "hash": "ae0a1f03a5765655b0f3c372de312bf5eba465e1865ba9948eeb558b9979f4a7"
   }
  }
 },
 "nbformat": 4,
 "nbformat_minor": 2
}
